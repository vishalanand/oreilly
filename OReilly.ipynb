{
 "cells": [
  {
   "cell_type": "code",
   "execution_count": 41,
   "metadata": {},
   "outputs": [
    {
     "name": "stdout",
     "output_type": "stream",
     "text": [
      "['an', 'arrow', 'banana', 'flies', 'fruit', 'like', 'time']\n",
      "CountVectorizer(analyzer='word', binary=True, decode_error='strict',\n",
      "                dtype=<class 'numpy.int64'>, encoding='utf-8', input='content',\n",
      "                lowercase=True, max_df=1.0, max_features=None, min_df=1,\n",
      "                ngram_range=(1, 1), preprocessor=None, stop_words=None,\n",
      "                strip_accents=None, token_pattern='(?u)\\\\b\\\\w\\\\w+\\\\b',\n",
      "                tokenizer=None, vocabulary=None)\n",
      "[[1 1 0 1 0 1 1]\n",
      " [0 0 1 1 1 1 0]]\n",
      "['an', 'arrow', 'banana', 'flies', 'fruit', 'like', 'time']\n"
     ]
    },
    {
     "data": {
      "text/plain": [
       "<matplotlib.axes._subplots.AxesSubplot at 0x1a23de3050>"
      ]
     },
     "execution_count": 41,
     "metadata": {},
     "output_type": "execute_result"
    },
    {
     "data": {
      "image/png": "[encoded data removed]",
      "text/plain": [
       "<Figure size 432x288 with 2 Axes>"
      ]
     },
     "metadata": {
      "needs_background": "light"
     },
     "output_type": "display_data"
    }
   ],
   "source": [
    "from sklearn.feature_extraction.text import CountVectorizer\n",
    "import seaborn as sns\n",
    "\n",
    "corpus = ['Time flies flies like an arrow.', 'Fruit flies like a banana.']\n",
    "corpus1 = ['Time flies flies1 like an arrow.', 'Fruit flies like a banana.']\n",
    "one_hot_vectorizer = CountVectorizer(binary=True)\n",
    "#print(one_hot_vectorizer)\n",
    "# print(one_hot_vectorizer.fit_transform(corpus))\n",
    "# print(one_hot_vectorizer.get_feature_names())\n",
    "one_hot = one_hot_vectorizer.fit_transform(corpus).toarray()\n",
    "print(one_hot_vectorizer.get_feature_names())\n",
    "\n",
    "#print(one_hot_vectorizer)\n",
    "vocab = one_hot_vectorizer.get_feature_names()\n",
    "print(one_hot_vectorizer)\n",
    "print(one_hot)\n",
    "print(vocab)\n",
    "\n",
    "sns.heatmap(one_hot, annot=True, cbar=True, xticklabels=vocab, yticklabels=corpus)\n"
   ]
  },
  {
   "cell_type": "code",
   "execution_count": null,
   "metadata": {},
   "outputs": [],
   "source": []
  },
  {
   "cell_type": "code",
   "execution_count": 45,
   "metadata": {},
   "outputs": [
    {
     "name": "stdout",
     "output_type": "stream",
     "text": [
      "CountVectorizer(analyzer='word', binary=True, decode_error='strict',\n",
      "                dtype=<class 'numpy.int64'>, encoding='utf-8', input='content',\n",
      "                lowercase=True, max_df=1.0, max_features=None, min_df=1,\n",
      "                ngram_range=(1, 1), preprocessor=None, stop_words=None,\n",
      "                strip_accents=None, token_pattern='(?u)\\\\b\\\\w\\\\w+\\\\b',\n",
      "                tokenizer=None, vocabulary=None)\n",
      "[[1 1 0 1 0 1 1]\n",
      " [0 0 1 1 1 1 0]]\n",
      "['an', 'arrow', 'banana', 'flies', 'fruit', 'like', 'time']\n"
     ]
    },
    {
     "data": {
      "text/plain": [
       "<matplotlib.axes._subplots.AxesSubplot at 0x1a2407d450>"
      ]
     },
     "execution_count": 45,
     "metadata": {},
     "output_type": "execute_result"
    },
    {
     "data": {
      "image/png": "[encoded data removed]",
      "text/plain": [
       "<Figure size 432x288 with 2 Axes>"
      ]
     },
     "metadata": {
      "needs_background": "light"
     },
     "output_type": "display_data"
    }
   ],
   "source": [
    "from sklearn.feature_extraction.text import CountVectorizer, TfidfVectorizer\n",
    "import seaborn as sns\n",
    "\n",
    "corpus = ['Time flies flies like an arrow.', 'Fruit flies like a banana.']\n",
    "corpus1 = ['Time flies flies1 like an arrow.', 'Fruit flies like a banana.']\n",
    "#one_hot_vectorizer = CountVectorizer(binary=True)\n",
    "tfidf_vectorizer = TfidfVectorizer()\n",
    "tfidf = tfidf_vectorizer.fit_transform(corpus).toarray()\n",
    "vocab = tfidf_vectorizer.get_feature_names()\n",
    "print(one_hot_vectorizer)\n",
    "print(one_hot)\n",
    "print(vocab)\n",
    "\n",
    "sns.heatmap(tfidf, annot=True, cbar=True, xticklabels=vocab, yticklabels=corpus)\n"
   ]
  },
  {
   "cell_type": "code",
   "execution_count": null,
   "metadata": {},
   "outputs": [],
   "source": []
  }
 ],
 "metadata": {
  "kernelspec": {
   "display_name": "Python 3",
   "language": "python",
   "name": "python3"
  },
  "language_info": {
   "codemirror_mode": {
    "name": "ipython",
    "version": 3
   },
   "file_extension": ".py",
   "mimetype": "text/x-python",
   "name": "python",
   "nbconvert_exporter": "python",
   "pygments_lexer": "ipython3",
   "version": "3.7.6"
  }
 },
 "nbformat": 4,
 "nbformat_minor": 4
}
